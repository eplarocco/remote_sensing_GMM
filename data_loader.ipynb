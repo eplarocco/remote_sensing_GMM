{
 "cells": [
  {
   "cell_type": "code",
   "execution_count": null,
   "metadata": {},
   "outputs": [],
   "source": [
    "#%pip install --upgrade hyperspectral_gta_data"
   ]
  },
  {
   "cell_type": "code",
   "execution_count": 2,
   "metadata": {},
   "outputs": [],
   "source": [
    "# Scripts associated with the SML4SI textbook\n",
    "import hyperspectral_gta_data as hsi_data\n",
    "\n",
    "# set the directory where data will be downloaded and accessed\n",
    "# (This directory will be saved in a config file and used each time you use hyperspectral_gta_data, \n",
    "# so you don't need to run the 'set_data_dir' function every time you use hyperspectral_gta_data.)\n",
    "hsi_data.set_data_dir('C/')"
   ]
  },
  {
   "cell_type": "code",
   "execution_count": 3,
   "metadata": {},
   "outputs": [
    {
     "name": "stdout",
     "output_type": "stream",
     "text": [
      "Available Images:\n",
      "   WashingtonDC\n",
      "   MicroscenePolymers\n",
      "   DetectionImagery_CookeCity_RIT\n",
      "   VegBaccharisUPWINS\n",
      "   PaintDetectionUPWINS\n",
      "   indian_pines\n",
      "   pavia_centre\n",
      "   pavia_university\n",
      "   AVIRIS_Cuprite\n",
      "   ENMAP_Cuprite\n",
      "Available Spectral Libraries:\n",
      "   GHISACONUS_2008_001_speclib\n",
      "   Microscene_Polymers_Library\n",
      "   UPWINS_4_16_2024\n",
      "   Detection_Library_Cooke_City_RIT\n",
      "   USGS_splib07b\n"
     ]
    }
   ],
   "source": [
    "# Here are the datasets available through the hyperspectral_gta_data package\n",
    "hsi_data.available_datasets()"
   ]
  },
  {
   "cell_type": "code",
   "execution_count": 4,
   "metadata": {},
   "outputs": [
    {
     "name": "stderr",
     "output_type": "stream",
     "text": [
      "Downloading...\n",
      "From: https://drive.google.com/uc?id=11Zn-DxlVevtg-KAKnDRiPEVxnLYXDl5h\n",
      "To: /Users/elarocco/Desktop/uva_phd_2024/remote_sensing_GMM/C/spectral_libraries/UPWINS_4_16_2024.zip\n",
      "100%|██████████| 6.88M/6.88M [00:00<00:00, 10.4MB/s]\n"
     ]
    },
    {
     "name": "stdout",
     "output_type": "stream",
     "text": [
      "File saved as: C/spectral_libraries/UPWINS_4_16_2024/UPWINS_4_16_2024.hdr\n",
      "File saved as: C/spectral_libraries/UPWINS_4_16_2024/UPWINS_4_16_2024.sli\n",
      " \n",
      "Available Files:\n",
      "/Users/elarocco/Desktop/uva_phd_2024/remote_sensing_GMM/C/spectral_libraries/UPWINS_4_16_2024/UPWINS_4_16_2024.sli\n",
      "/Users/elarocco/Desktop/uva_phd_2024/remote_sensing_GMM/C/spectral_libraries/UPWINS_4_16_2024/UPWINS_4_16_2024.hdr\n"
     ]
    },
    {
     "name": "stderr",
     "output_type": "stream",
     "text": [
      "Downloading...\n",
      "From (original): https://drive.google.com/uc?id=1e5SloCAzXGIfDRlzhqYcmQ5JUMC8DweC\n",
      "From (redirected): https://drive.google.com/uc?id=1e5SloCAzXGIfDRlzhqYcmQ5JUMC8DweC&confirm=t&uuid=ad5afa44-3f93-432b-b6a7-e21dbc9c4987\n",
      "To: /Users/elarocco/Desktop/uva_phd_2024/remote_sensing_GMM/C/spectral_images/Vegetation_Baccharis_halmifolia_UPWINS.zip\n",
      "100%|██████████| 86.2M/86.2M [01:53<00:00, 757kB/s] \n"
     ]
    },
    {
     "name": "stdout",
     "output_type": "stream",
     "text": [
      "File saved as: C/spectral_images/Vegetation_Baccharis_halmifolia_UPWINS/Morven_Baccharis_h_or_ref\n",
      "File saved as: C/spectral_images/Vegetation_Baccharis_halmifolia_UPWINS/Morven_Baccharis_h_or_ref.hdr\n",
      " \n",
      "Available Files:\n",
      "/Users/elarocco/Desktop/uva_phd_2024/remote_sensing_GMM/C/spectral_images/Vegetation_Baccharis_halmifolia_UPWINS/Morven_Baccharis_h_or_ref\n",
      "/Users/elarocco/Desktop/uva_phd_2024/remote_sensing_GMM/C/spectral_images/Vegetation_Baccharis_halmifolia_UPWINS/Morven_Baccharis_h_or_ref.hdr\n"
     ]
    },
    {
     "data": {
      "text/plain": [
       "<hyperspectral_gta_data.data_download.download at 0x107574d40>"
      ]
     },
     "execution_count": 4,
     "metadata": {},
     "output_type": "execute_result"
    }
   ],
   "source": [
    "# Baccharis\n",
    "\n",
    "# Download spectral library:\n",
    "hsi_data.download('UPWINS_4_16_2024')\n",
    "\n",
    "# Download image:\n",
    "hsi_data.download('VegBaccharisUPWINS')"
   ]
  },
  {
   "cell_type": "code",
   "execution_count": 6,
   "metadata": {},
   "outputs": [
    {
     "name": "stdout",
     "output_type": "stream",
     "text": [
      "Available Files:\n",
      "/Users/elarocco/Desktop/uva_phd_2024/remote_sensing_GMM/C/spectral_libraries/Detection_Library_Cooke_City_RIT/Cooke_City_Targets\n",
      "/Users/elarocco/Desktop/uva_phd_2024/remote_sensing_GMM/C/spectral_libraries/Detection_Library_Cooke_City_RIT/Cooke_City_Targets.hdr\n",
      "/Users/elarocco/Desktop/uva_phd_2024/remote_sensing_GMM/C/spectral_libraries/Detection_Library_Cooke_City_RIT/Photos/F7.jpg\n",
      "/Users/elarocco/Desktop/uva_phd_2024/remote_sensing_GMM/C/spectral_libraries/Detection_Library_Cooke_City_RIT/Photos/F6.jpg\n",
      "/Users/elarocco/Desktop/uva_phd_2024/remote_sensing_GMM/C/spectral_libraries/Detection_Library_Cooke_City_RIT/Photos/F4.jpg\n",
      "/Users/elarocco/Desktop/uva_phd_2024/remote_sensing_GMM/C/spectral_libraries/Detection_Library_Cooke_City_RIT/Photos/F5.jpg\n",
      "/Users/elarocco/Desktop/uva_phd_2024/remote_sensing_GMM/C/spectral_libraries/Detection_Library_Cooke_City_RIT/Photos/F1.jpg\n",
      "/Users/elarocco/Desktop/uva_phd_2024/remote_sensing_GMM/C/spectral_libraries/Detection_Library_Cooke_City_RIT/Photos/F2.jpg\n",
      "/Users/elarocco/Desktop/uva_phd_2024/remote_sensing_GMM/C/spectral_libraries/Detection_Library_Cooke_City_RIT/Photos/F3.jpg\n",
      "/Users/elarocco/Desktop/uva_phd_2024/remote_sensing_GMM/C/spectral_libraries/Detection_Library_Cooke_City_RIT/Photos/V1.jpg\n",
      "/Users/elarocco/Desktop/uva_phd_2024/remote_sensing_GMM/C/spectral_libraries/Detection_Library_Cooke_City_RIT/Photos/V3.jpg\n",
      "/Users/elarocco/Desktop/uva_phd_2024/remote_sensing_GMM/C/spectral_libraries/Detection_Library_Cooke_City_RIT/Photos/V2.jpg\n"
     ]
    },
    {
     "name": "stderr",
     "output_type": "stream",
     "text": [
      "Downloading...\n",
      "From (original): https://drive.google.com/uc?id=1S97FG9UKdT7QHtnTmyvBq2VMZL-pDYt7\n",
      "From (redirected): https://drive.google.com/uc?id=1S97FG9UKdT7QHtnTmyvBq2VMZL-pDYt7&confirm=t&uuid=1e3a273c-ebf9-4c8f-91f8-c66d1c368407\n",
      "To: /Users/elarocco/Desktop/uva_phd_2024/remote_sensing_GMM/C/spectral_images/Detection_Imagery_Cooke_City_RIT.zip\n",
      "100%|██████████| 169M/169M [02:34<00:00, 1.10MB/s] \n"
     ]
    },
    {
     "name": "stdout",
     "output_type": "stream",
     "text": [
      "File saved as: C/spectral_images/Detection_Imagery_Cooke_City_RIT/blind_test_refl\n",
      "File saved as: C/spectral_images/Detection_Imagery_Cooke_City_RIT/blind_test_refl.hdr\n",
      "File saved as: C/spectral_images/Detection_Imagery_Cooke_City_RIT/blind_test_refl.img\n",
      "File saved as: C/spectral_images/Detection_Imagery_Cooke_City_RIT/IGARSS_2008_Snyder.pdf\n",
      "File saved as: C/spectral_images/Detection_Imagery_Cooke_City_RIT/self_test_refl\n",
      "File saved as: C/spectral_images/Detection_Imagery_Cooke_City_RIT/self_test_refl.hdr\n",
      "File saved as: C/spectral_images/Detection_Imagery_Cooke_City_RIT/self_test_refl.img\n",
      "File saved as: C/spectral_images/Detection_Imagery_Cooke_City_RIT/self_test_refl_gt.txt\n",
      " \n",
      "Available Files:\n",
      "/Users/elarocco/Desktop/uva_phd_2024/remote_sensing_GMM/C/spectral_images/Detection_Imagery_Cooke_City_RIT/self_test_refl.hdr\n",
      "/Users/elarocco/Desktop/uva_phd_2024/remote_sensing_GMM/C/spectral_images/Detection_Imagery_Cooke_City_RIT/blind_test_refl\n",
      "/Users/elarocco/Desktop/uva_phd_2024/remote_sensing_GMM/C/spectral_images/Detection_Imagery_Cooke_City_RIT/blind_test_refl.img\n",
      "/Users/elarocco/Desktop/uva_phd_2024/remote_sensing_GMM/C/spectral_images/Detection_Imagery_Cooke_City_RIT/self_test_refl_gt.txt\n",
      "/Users/elarocco/Desktop/uva_phd_2024/remote_sensing_GMM/C/spectral_images/Detection_Imagery_Cooke_City_RIT/IGARSS_2008_Snyder.pdf\n",
      "/Users/elarocco/Desktop/uva_phd_2024/remote_sensing_GMM/C/spectral_images/Detection_Imagery_Cooke_City_RIT/blind_test_refl.hdr\n",
      "/Users/elarocco/Desktop/uva_phd_2024/remote_sensing_GMM/C/spectral_images/Detection_Imagery_Cooke_City_RIT/self_test_refl.img\n",
      "/Users/elarocco/Desktop/uva_phd_2024/remote_sensing_GMM/C/spectral_images/Detection_Imagery_Cooke_City_RIT/self_test_refl\n"
     ]
    },
    {
     "data": {
      "text/plain": [
       "<hyperspectral_gta_data.data_download.download at 0x1072d4d40>"
      ]
     },
     "execution_count": 6,
     "metadata": {},
     "output_type": "execute_result"
    }
   ],
   "source": [
    "# Cook City\n",
    "\n",
    "# Download spectral library:\n",
    "hsi_data.download('Detection_Library_Cooke_City_RIT')\n",
    "\n",
    "# Download image:\n",
    "hsi_data.download('DetectionImagery_CookeCity_RIT')"
   ]
  }
 ],
 "metadata": {
  "kernelspec": {
   "display_name": "Python 3",
   "language": "python",
   "name": "python3"
  },
  "language_info": {
   "codemirror_mode": {
    "name": "ipython",
    "version": 3
   },
   "file_extension": ".py",
   "mimetype": "text/x-python",
   "name": "python",
   "nbconvert_exporter": "python",
   "pygments_lexer": "ipython3",
   "version": "3.12.5"
  }
 },
 "nbformat": 4,
 "nbformat_minor": 2
}
